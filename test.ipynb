{
 "cells": [
  {
   "cell_type": "code",
   "execution_count": 39,
   "metadata": {},
   "outputs": [
    {
     "data": {
      "text/plain": [
       "True"
      ]
     },
     "execution_count": 39,
     "metadata": {},
     "output_type": "execute_result"
    }
   ],
   "source": [
    "from langchain_community.document_loaders import WebBaseLoader\n",
    "from langchain_core.prompts import PromptTemplate\n",
    "from langchain_core.output_parsers import JsonOutputParser\n",
    "from langchain_groq import ChatGroq\n",
    "\n",
    "import pandas as pd\n",
    "import uuid\n",
    "import chromadb\n",
    "from dotenv import load_dotenv\n",
    "import os\n",
    "\n",
    "load_dotenv()"
   ]
  },
  {
   "cell_type": "code",
   "execution_count": 30,
   "metadata": {},
   "outputs": [],
   "source": [
    "GROQ_API_KEY = os.environ.get('GROQ_API_KEY')"
   ]
  },
  {
   "cell_type": "code",
   "execution_count": 31,
   "metadata": {},
   "outputs": [],
   "source": [
    "# Define Model\n",
    "llm = ChatGroq(\n",
    "    temperature= 0,\n",
    "    groq_api_key=GROQ_API_KEY,\n",
    "    model_name=\"llama-3.1-70b-versatile\"\n",
    ")"
   ]
  },
  {
   "cell_type": "code",
   "execution_count": 17,
   "metadata": {},
   "outputs": [],
   "source": [
    "prompt_extract = PromptTemplate.from_template(\n",
    "        \"\"\"\n",
    "        ### SCRAPED TEXT FROM WEBSITE:\n",
    "        {page_data}\n",
    "        ### INSTRUCTION:\n",
    "        The scraped text is from the career's page of a website.\n",
    "        Your job is to extract the job postings and return them in JSON format containing the \n",
    "        following keys: `role`, `experience`, `skills` and `description`.\n",
    "        Only return the valid JSON.\n",
    "        ### VALID JSON (NO PREAMBLE):    \n",
    "        \"\"\"\n",
    ")"
   ]
  },
  {
   "cell_type": "code",
   "execution_count": null,
   "metadata": {},
   "outputs": [],
   "source": [
    "loader = WebBaseLoader(\"https://job-boards.greenhouse.io/omadahealth/jobs/6162470\")\n",
    "page_data = loader.load().pop().page_content\n",
    "print(page_data)"
   ]
  },
  {
   "cell_type": "code",
   "execution_count": 26,
   "metadata": {},
   "outputs": [
    {
     "name": "stdout",
     "output_type": "stream",
     "text": [
      "```\n",
      "{\n",
      "  \"role\": \"Senior Data Analyst, Client Analytics\",\n",
      "  \"experience\": \"At least 7+ years of rigorous BI solution design and programming experience\",\n",
      "  \"skills\": [\n",
      "    \"Data Analysis and Visualization\",\n",
      "    \"Tableau\",\n",
      "    \"SQL\",\n",
      "    \"ETL\",\n",
      "    \"Databases\",\n",
      "    \"Data model\",\n",
      "    \"Excel\"\n",
      "  ],\n",
      "  \"description\": \"The client analytics team is responsible for developing our portfolio of reports and data insights that communicates the value of Omada brings across employer and payer populations. Using data spanning app engagement, clinical outcomes, behavioral health indicators, and claims, the team partners with our customer success teams to provide focus and effective data-driven narratives across over 1.5k customers and 600k members.\"\n",
      "}\n",
      "```\n"
     ]
    }
   ],
   "source": [
    "# Create Chain\n",
    "chain_extract = prompt_extract | llm\n",
    "response = chain_extract.invoke(input={'page_data':page_data})\n",
    "print(response.content)"
   ]
  },
  {
   "cell_type": "code",
   "execution_count": 27,
   "metadata": {},
   "outputs": [],
   "source": [
    "# Change the result from STR to JSON\n",
    "json_parser = JsonOutputParser()\n",
    "json_response = json_parser.parse(response.content)"
   ]
  },
  {
   "cell_type": "code",
   "execution_count": 33,
   "metadata": {},
   "outputs": [
    {
     "data": {
      "text/plain": [
       "({'role': 'Senior Data Analyst, Client Analytics',\n",
       "  'experience': 'At least 7+ years of rigorous BI solution design and programming experience',\n",
       "  'skills': ['Data Analysis and Visualization',\n",
       "   'Tableau',\n",
       "   'SQL',\n",
       "   'ETL',\n",
       "   'Databases',\n",
       "   'Data model',\n",
       "   'Excel'],\n",
       "  'description': 'The client analytics team is responsible for developing our portfolio of reports and data insights that communicates the value of Omada brings across employer and payer populations. Using data spanning app engagement, clinical outcomes, behavioral health indicators, and claims, the team partners with our customer success teams to provide focus and effective data-driven narratives across over 1.5k customers and 600k members.'},\n",
       " dict)"
      ]
     },
     "execution_count": 33,
     "metadata": {},
     "output_type": "execute_result"
    }
   ],
   "source": [
    "json_response, type(json_response)"
   ]
  },
  {
   "cell_type": "code",
   "execution_count": 38,
   "metadata": {},
   "outputs": [],
   "source": [
    "# import csv\n",
    "df = pd.read_csv('./data/my_portfolio.csv')"
   ]
  },
  {
   "cell_type": "code",
   "execution_count": 40,
   "metadata": {},
   "outputs": [
    {
     "name": "stderr",
     "output_type": "stream",
     "text": [
      "C:\\Users\\PJ\\.cache\\chroma\\onnx_models\\all-MiniLM-L6-v2\\onnx.tar.gz: 100%|██████████| 79.3M/79.3M [00:02<00:00, 37.6MiB/s]\n"
     ]
    }
   ],
   "source": [
    "# Setup VectorDB (ChromaDB)\n",
    "# Create a persistent client to store records in a folder within the directory\n",
    "client = chromadb.PersistentClient('vectorstore')\n",
    "collection = client.get_or_create_collection(name='portfolio')\n",
    "\n",
    "\n",
    "if not collection.count():\n",
    "    for _, row in df.iterrows():\n",
    "        collection.add(documents=row[\"Techstack\"],\n",
    "                       metadatas={\"links\": row[\"Links\"]},\n",
    "                       ids=[str(uuid.uuid4())])"
   ]
  },
  {
   "cell_type": "code",
   "execution_count": 41,
   "metadata": {},
   "outputs": [
    {
     "data": {
      "text/plain": [
       "[[{'links': 'https://example.com/ml-python-portfolio'},\n",
       "  {'links': 'https://example.com/python-portfolio'}]]"
      ]
     },
     "execution_count": 41,
     "metadata": {},
     "output_type": "execute_result"
    }
   ],
   "source": [
    "collection.query(query_texts=\"Experience in Python\", n_results=2).get('metadatas',[])"
   ]
  },
  {
   "cell_type": "code",
   "execution_count": 42,
   "metadata": {},
   "outputs": [
    {
     "data": {
      "text/plain": [
       "['Data Analysis and Visualization',\n",
       " 'Tableau',\n",
       " 'SQL',\n",
       " 'ETL',\n",
       " 'Databases',\n",
       " 'Data model',\n",
       " 'Excel']"
      ]
     },
     "execution_count": 42,
     "metadata": {},
     "output_type": "execute_result"
    }
   ],
   "source": [
    "job = json_response\n",
    "job['skills']"
   ]
  },
  {
   "cell_type": "code",
   "execution_count": 44,
   "metadata": {},
   "outputs": [],
   "source": [
    "links = collection.query(query_texts=job['skills'], n_results=2).get('metadatas', [])"
   ]
  },
  {
   "cell_type": "code",
   "execution_count": 45,
   "metadata": {},
   "outputs": [],
   "source": [
    "prompt_email = PromptTemplate.from_template(\n",
    "        \"\"\"\n",
    "        ### JOB DESCRIPTION:\n",
    "        {job_description}\n",
    "        \n",
    "        ### INSTRUCTION:\n",
    "        You are Mohan, a business development executive at AtliQ. AtliQ is an AI & Software Consulting company dedicated to facilitating\n",
    "        the seamless integration of business processes through automated tools. \n",
    "        Over our experience, we have empowered numerous enterprises with tailored solutions, fostering scalability, \n",
    "        process optimization, cost reduction, and heightened overall efficiency. \n",
    "        Your job is to write a cold email to the client regarding the job mentioned above describing the capability of AtliQ \n",
    "        in fulfilling their needs.\n",
    "        Also add the most relevant ones from the following links to showcase Atliq's portfolio: {link_list}\n",
    "        Remember you are Mohan, BDE at AtliQ. \n",
    "        Do not provide a preamble.\n",
    "        ### EMAIL (NO PREAMBLE):\n",
    "        \n",
    "        \"\"\"\n",
    ")"
   ]
  },
  {
   "cell_type": "code",
   "execution_count": 46,
   "metadata": {},
   "outputs": [
    {
     "name": "stdout",
     "output_type": "stream",
     "text": [
      "Subject: Unlock Data-Driven Insights with AtliQ's Expertise\n",
      "\n",
      "Dear Hiring Manager,\n",
      "\n",
      "I came across the Senior Data Analyst, Client Analytics role at Omada, and I was impressed by the team's focus on developing a portfolio of reports and data insights that communicate the value of Omada's services. As a Business Development Executive at AtliQ, I'd like to introduce you to our company's capabilities in empowering businesses like yours with tailored solutions that foster scalability, process optimization, cost reduction, and heightened overall efficiency.\n",
      "\n",
      "AtliQ has extensive experience in designing and implementing Business Intelligence (BI) solutions that cater to the needs of organizations like Omada. Our team of experts has a proven track record of delivering data analysis and visualization solutions using tools like Tableau, SQL, ETL, and Excel. We've worked with various databases and data models, ensuring seamless integration and effective data-driven narratives.\n",
      "\n",
      "Our portfolio showcases our expertise in developing data-driven solutions, including:\n",
      "\n",
      "* Machine Learning and Python-based solutions: https://example.com/ml-python-portfolio\n",
      "* Data Visualization and Business Intelligence solutions: https://example.com/magento-portfolio\n",
      "\n",
      "We believe that our expertise aligns with the requirements of the Senior Data Analyst role, and we'd be delighted to discuss how AtliQ can support Omada's client analytics team in developing a robust portfolio of reports and data insights.\n",
      "\n",
      "If you're interested in learning more about our capabilities and how we can help Omada achieve its goals, I'd be happy to schedule a call to discuss further.\n",
      "\n",
      "Best regards,\n",
      "\n",
      "Mohan\n",
      "Business Development Executive\n",
      "AtliQ\n"
     ]
    }
   ],
   "source": [
    "chain_email = prompt_email | llm\n",
    "res = chain_email.invoke({\"job_description\": str(job), \"link_list\": links})\n",
    "print(res.content)"
   ]
  }
 ],
 "metadata": {
  "kernelspec": {
   "display_name": "groq",
   "language": "python",
   "name": "python3"
  },
  "language_info": {
   "codemirror_mode": {
    "name": "ipython",
    "version": 3
   },
   "file_extension": ".py",
   "mimetype": "text/x-python",
   "name": "python",
   "nbconvert_exporter": "python",
   "pygments_lexer": "ipython3",
   "version": "3.11.9"
  }
 },
 "nbformat": 4,
 "nbformat_minor": 2
}
